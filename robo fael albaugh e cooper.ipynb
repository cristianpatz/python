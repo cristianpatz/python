{
 "cells": [
  {
   "cell_type": "markdown",
   "metadata": {},
   "source": []
  },
  {
   "cell_type": "code",
   "execution_count": 2,
   "metadata": {},
   "outputs": [],
   "source": [
    "import os\n",
    "import shutil\n",
    "import holidays\n",
    "from datetime import datetime, timedelta"
   ]
  },
  {
   "cell_type": "code",
   "execution_count": 3,
   "metadata": {},
   "outputs": [],
   "source": [
    "def calcular_dia_anterior():\n",
    "    # Obter a data de hoje\n",
    "    data_atual = datetime.now() - timedelta(days=1)\n",
    "\n",
    "    # Verificar se hoje é domingo\n",
    "    if data_atual.weekday() == 6:  # domingo é o dia 6 da semana\n",
    "        # Se for domingo, subtrair dois dias para obter sexta-feira\n",
    "        dia_anterior = data_atual - timedelta(days=2)\n",
    "    else:\n",
    "        # Caso contrário, subtrair um dia normalmente\n",
    "        dia_anterior = data_atual\n",
    "    \n",
    "    return dia_anterior"
   ]
  },
  {
   "cell_type": "code",
   "execution_count": 5,
   "metadata": {},
   "outputs": [
    {
     "name": "stdout",
     "output_type": "stream",
     "text": [
      "20240624\n",
      "24-06-2024\n",
      "2024-06-24\n",
      "2024/06/24\n",
      "24.06.24\n"
     ]
    }
   ],
   "source": [
    "#formatos de dias\n",
    "data_do_dia_anterior = calcular_dia_anterior()\n",
    "formato1 = data_do_dia_anterior.strftime(\"%Y%m%d\")\n",
    "print(formato1)\n",
    "formato2 = data_do_dia_anterior.strftime(\"%d-%m-%Y\")\n",
    "print(formato2)\n",
    "formato3 = data_do_dia_anterior.strftime(\"%Y-%m-%d\")\n",
    "print(formato3)\n",
    "formato4 = data_do_dia_anterior.strftime(\"%Y/%m/%d\")\n",
    "print(formato4)\n",
    "formato5 = data_do_dia_anterior.strftime(\"%d.%m.%y\")\n",
    "print(formato5)"
   ]
  },
  {
   "cell_type": "code",
   "execution_count": 13,
   "metadata": {},
   "outputs": [
    {
     "name": "stdout",
     "output_type": "stream",
     "text": [
      "H:/INTEGRACOES/BTGPACTUAL/FUNDO/COOPERCITRUS/2024/06/24/CARTEIRA\n"
     ]
    }
   ],
   "source": [
    "pasta_cooper = \"H:/INTEGRACOES/BTGPACTUAL/FUNDO/COOPERCITRUS/\"\n",
    "pasta_cooper2 = \"/CARTEIRA\"\n",
    "pasta_cooper3 = pasta_cooper + formato4 + pasta_cooper2\n",
    "print(pasta_cooper3)"
   ]
  },
  {
   "cell_type": "code",
   "execution_count": 20,
   "metadata": {},
   "outputs": [],
   "source": [
    "pasta_principal = r'H:\\ROBOS\\FUNDOS\\SISTEMAS\\RELATORIOS_OCTO\\SQFIDC'\n",
    "\n",
    "pasta_destino1 = r'H:\\INTEGRACOES\\BTGPACTUAL\\FUNDO\\ALBAUGH\\POSICAO'\n",
    "pasta_destino2 = r'H:\\INTEGRACOES\\BTGPACTUAL\\FUNDO\\ALBAUGH_I\\POSICAO'\n",
    "pasta_destino3 = r'H:\\INTEGRACOES\\BTGPACTUAL\\FUNDO\\COOPERCITRUS\\POSICAO'\n",
    "\n",
    "for arquivo in os.listdir(pasta_principal): #Albaugh\n",
    "    if arquivo.startswith(f\"base_em_aberto_fechamento_fidc_albaugh_{formato1}\"):\n",
    "        novo_nome1 = f\"ALBAUGH-{formato3}-BASE ANALITICA.txt\"\n",
    "        shutil.copy(os.path.join(pasta_principal, arquivo), os.path.join(pasta_destino1, novo_nome1))\n",
    "    else:\n",
    "        pass"
   ]
  },
  {
   "cell_type": "code",
   "execution_count": 23,
   "metadata": {},
   "outputs": [],
   "source": [
    "for arquivo2 in os.listdir(pasta_principal): #Albaugh 1\n",
    "    if arquivo2.startswith(f\"base_em_aberto_fechamento_fidc_albaugh_2_{formato1}\"):\n",
    "        novo_nome2 = f\"ALBAUGH_I-{formato3}-base_em_aberto_fechamento.txt\"\n",
    "        shutil.copy(os.path.join(pasta_principal, arquivo2), os.path.join(pasta_destino2, novo_nome2))\n",
    "    else:\n",
    "        pass"
   ]
  },
  {
   "cell_type": "code",
   "execution_count": null,
   "metadata": {},
   "outputs": [],
   "source": [
    "for arquivo3 in os.listdir(pasta_principal): #Coopercitrus\n",
    "    if arquivo3.startswith(f\"base_em_aberto_fechamento_fidc_coopercitrus_{formato1}\"):\n",
    "        novo_nome3 = f\"COOPERCITRUS-{formato3}-BASE ANALITICA\"\n",
    "        shutil.copy(os.path.join(pasta_principal, arquivo3), os.path.join(pasta_destino3, novo_nome3)) \n",
    "    elif arquivo3.startswith(f\"func_resumo_fechamento_fidc_coopercitrus_{formato1}\"):\n",
    "        if arquivo3.endswith(\".txt\"):\n",
    "            novo_nome4 = f\"BASE CARTEIRA {formato5}.txt\"\n",
    "            shutil.copy(os.path.join(pasta_principal, arquivo3), os.path.join(pasta_cooper3, novo_nome4))\n",
    "        else:\n",
    "            novo_nome5 = f\"BASE CARTEIRA {formato5}\"\n",
    "            shutil.copy(os.path.join(pasta_principal, arquivo3), os.path.join(pasta_cooper3, novo_nome5))\n",
    "    elif arquivo3.startswith(f\"titulos_em_aberto_por_sacado_fidc_coopercitrus_{formato1}\"):\n",
    "        novo_nome6 = f\"BASE SACADO {formato5}\"\n",
    "        shutil.copy(os.path.join(pasta_principal, arquivo3), os.path.join(pasta_cooper3, novo_nome6)) \n",
    "    else:\n",
    "        pass\n"
   ]
  }
 ],
 "metadata": {
  "kernelspec": {
   "display_name": "Python 3",
   "language": "python",
   "name": "python3"
  },
  "language_info": {
   "codemirror_mode": {
    "name": "ipython",
    "version": 3
   },
   "file_extension": ".py",
   "mimetype": "text/x-python",
   "name": "python",
   "nbconvert_exporter": "python",
   "pygments_lexer": "ipython3",
   "version": "3.12.1"
  }
 },
 "nbformat": 4,
 "nbformat_minor": 2
}
