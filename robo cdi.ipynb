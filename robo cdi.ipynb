{
 "cells": [
  {
   "cell_type": "code",
   "execution_count": 1,
   "metadata": {},
   "outputs": [
    {
     "name": "stdout",
     "output_type": "stream",
     "text": [
      "Collecting pandasNote: you may need to restart the kernel to use updated packages.\n",
      "\n",
      "  Obtaining dependency information for pandas from https://files.pythonhosted.org/packages/87/03/fe50521919aa981f6a1c197037da4623a267b0e5f42246d69ba048e86da3/pandas-2.2.0-cp312-cp312-win_amd64.whl.metadata\n",
      "  Downloading pandas-2.2.0-cp312-cp312-win_amd64.whl.metadata (19 kB)\n",
      "Collecting numpy<2,>=1.26.0 (from pandas)\n",
      "  Obtaining dependency information for numpy<2,>=1.26.0 from https://files.pythonhosted.org/packages/ad/11/52fbe97fd84c91105b651d25a122f8deed6d3519afb14f9771fac1c9b7de/numpy-1.26.3-cp312-cp312-win_amd64.whl.metadata\n",
      "  Downloading numpy-1.26.3-cp312-cp312-win_amd64.whl.metadata (61 kB)\n",
      "     ---------------------------------------- 0.0/61.2 kB ? eta -:--:--\n",
      "     ---------------------------------------- 61.2/61.2 kB 3.2 MB/s eta 0:00:00\n",
      "Requirement already satisfied: python-dateutil>=2.8.2 in c:\\users\\cristian.patzlaff\\appdata\\roaming\\python\\python312\\site-packages (from pandas) (2.8.2)\n",
      "Collecting pytz>=2020.1 (from pandas)\n",
      "  Obtaining dependency information for pytz>=2020.1 from https://files.pythonhosted.org/packages/9c/3d/a121f284241f08268b21359bd425f7d4825cffc5ac5cd0e1b3d82ffd2b10/pytz-2024.1-py2.py3-none-any.whl.metadata\n",
      "  Downloading pytz-2024.1-py2.py3-none-any.whl.metadata (22 kB)\n",
      "Collecting tzdata>=2022.7 (from pandas)\n",
      "  Obtaining dependency information for tzdata>=2022.7 from https://files.pythonhosted.org/packages/a3/fb/52b62131e21b24ee297e4e95ed41eba29647dad0e0051a92bb66b43c70ff/tzdata-2023.4-py2.py3-none-any.whl.metadata\n",
      "  Downloading tzdata-2023.4-py2.py3-none-any.whl.metadata (1.4 kB)\n",
      "Requirement already satisfied: six>=1.5 in c:\\users\\cristian.patzlaff\\appdata\\roaming\\python\\python312\\site-packages (from python-dateutil>=2.8.2->pandas) (1.16.0)\n",
      "Downloading pandas-2.2.0-cp312-cp312-win_amd64.whl (11.5 MB)\n",
      "   ---------------------------------------- 0.0/11.5 MB ? eta -:--:--\n",
      "   ------- -------------------------------- 2.2/11.5 MB 72.0 MB/s eta 0:00:01\n",
      "   ------------------- -------------------- 5.6/11.5 MB 72.1 MB/s eta 0:00:01\n",
      "   ------------------------------ --------- 8.9/11.5 MB 70.9 MB/s eta 0:00:01\n",
      "   ---------------------------------------  11.5/11.5 MB 73.1 MB/s eta 0:00:01\n",
      "   ---------------------------------------  11.5/11.5 MB 73.1 MB/s eta 0:00:01\n",
      "   ---------------------------------------- 11.5/11.5 MB 54.7 MB/s eta 0:00:00\n",
      "Downloading numpy-1.26.3-cp312-cp312-win_amd64.whl (15.5 MB)\n",
      "   ---------------------------------------- 0.0/15.5 MB ? eta -:--:--\n",
      "   ---------- ----------------------------- 4.0/15.5 MB 85.6 MB/s eta 0:00:01\n",
      "   ------------------- -------------------- 7.4/15.5 MB 79.8 MB/s eta 0:00:01\n",
      "   --------------------------- ------------ 10.5/15.5 MB 73.1 MB/s eta 0:00:01\n",
      "   ----------------------------------- ---- 13.6/15.5 MB 73.1 MB/s eta 0:00:01\n",
      "   ---------------------------------------  15.5/15.5 MB 72.6 MB/s eta 0:00:01\n",
      "   ---------------------------------------  15.5/15.5 MB 72.6 MB/s eta 0:00:01\n",
      "   ---------------------------------------- 15.5/15.5 MB 46.7 MB/s eta 0:00:00\n",
      "Downloading pytz-2024.1-py2.py3-none-any.whl (505 kB)\n",
      "   ---------------------------------------- 0.0/505.5 kB ? eta -:--:--\n",
      "   --------------------------------------- 505.5/505.5 kB 33.0 MB/s eta 0:00:00\n",
      "Downloading tzdata-2023.4-py2.py3-none-any.whl (346 kB)\n",
      "   ---------------------------------------- 0.0/346.6 kB ? eta -:--:--\n",
      "   --------------------------------------- 346.6/346.6 kB 21.0 MB/s eta 0:00:00\n",
      "Installing collected packages: pytz, tzdata, numpy, pandas\n",
      "Successfully installed numpy-1.26.3 pandas-2.2.0 pytz-2024.1 tzdata-2023.4\n"
     ]
    },
    {
     "name": "stderr",
     "output_type": "stream",
     "text": [
      "  WARNING: The script f2py.exe is installed in 'c:\\Users\\cristian.patzlaff\\AppData\\Local\\Programs\\Python\\Python312\\Scripts' which is not on PATH.\n",
      "  Consider adding this directory to PATH or, if you prefer to suppress this warning, use --no-warn-script-location.\n",
      "\n",
      "[notice] A new release of pip is available: 23.2.1 -> 23.3.2\n",
      "[notice] To update, run: python.exe -m pip install --upgrade pip\n"
     ]
    }
   ],
   "source": [
    "pip install pandas"
   ]
  },
  {
   "cell_type": "code",
   "execution_count": 2,
   "metadata": {},
   "outputs": [
    {
     "name": "stdout",
     "output_type": "stream",
     "text": [
      "Collecting openpyxl\n",
      "  Downloading openpyxl-3.1.2-py2.py3-none-any.whl (249 kB)\n",
      "     ---------------------------------------- 0.0/250.0 kB ? eta -:--:--\n",
      "     ---- -------------------------------- 30.7/250.0 kB 435.7 kB/s eta 0:00:01\n",
      "     -------------------------------------- 250.0/250.0 kB 3.1 MB/s eta 0:00:00\n",
      "Collecting et-xmlfile (from openpyxl)\n",
      "  Downloading et_xmlfile-1.1.0-py3-none-any.whl (4.7 kB)\n",
      "Installing collected packages: et-xmlfile, openpyxl\n",
      "Successfully installed et-xmlfile-1.1.0 openpyxl-3.1.2\n",
      "Note: you may need to restart the kernel to use updated packages.\n"
     ]
    },
    {
     "name": "stderr",
     "output_type": "stream",
     "text": [
      "\n",
      "[notice] A new release of pip is available: 23.2.1 -> 23.3.2\n",
      "[notice] To update, run: python.exe -m pip install --upgrade pip\n"
     ]
    }
   ],
   "source": [
    "pip install openpyxl"
   ]
  },
  {
   "cell_type": "code",
   "execution_count": 8,
   "metadata": {},
   "outputs": [
    {
     "name": "stdout",
     "output_type": "stream",
     "text": [
      "Erro: O arquivo Aetos Sen 1 teste.xlsx possui células vazias na coluna 'Data'.\n",
      "Valores substituídos com sucesso e arquivos salvos na mesma pasta!\n"
     ]
    }
   ],
   "source": [
    "import os\n",
    "import pandas as pd\n",
    "from openpyxl import load_workbook\n",
    "from datetime import datetime\n",
    "\n",
    "def substituir_valor_cdi(pasta, valor_substituir, data_substituir):\n",
    "    for arquivo in os.listdir(pasta):\n",
    "        if arquivo.endswith('.xlsx'):\n",
    "            caminho_arquivo = os.path.join(pasta, arquivo)\n",
    "\n",
    "            # Ler o arquivo Excel\n",
    "            df = pd.read_excel(caminho_arquivo)\n",
    "\n",
    "            # Verificar se a coluna \"CDI\" existe no DataFrame\n",
    "            if \"CDI\" in df.columns:\n",
    "                # Substituir os valores a partir da data especificada\n",
    "                df.loc[df['Data'] >= data_substituir, 'CDI'] = valor_substituir\n",
    "\n",
    "                # Verificar se há células vazias na coluna 'CDI'\n",
    "                if df['Data'].isnull().any():\n",
    "                    print(f\"Erro: O arquivo {arquivo} possui células vazias na coluna 'Data'.\")\n",
    "                else:\n",
    "                    # Salvar as alterações no mesmo arquivo\n",
    "                    df.to_excel(caminho_arquivo, index=False)\n",
    "\n",
    "if __name__ == \"__main__\":\n",
    "    # Informações fornecidas pelo usuário\n",
    "    pasta_arquivos = input(\"Informe o caminho da pasta com os arquivos Excel: \")\n",
    "    valor_substituir = float(input(\"Informe o valor para substituir na coluna 'CDI': \"))\n",
    "    data_substituir_str = input(\"Informe a data a partir da qual deseja substituir (no formato YYYY-MM-DD): \")\n",
    "    data_substituir = datetime.strptime(data_substituir_str, \"%Y-%m-%d\")\n",
    "\n",
    "    # Chamar a função para substituir os valores\n",
    "    substituir_valor_cdi(pasta_arquivos, valor_substituir, data_substituir)\n",
    "\n",
    "    print(\"Valores substituídos com sucesso e arquivos salvos na mesma pasta!\")\n",
    "\n"
   ]
  }
 ],
 "metadata": {
  "kernelspec": {
   "display_name": "Python 3",
   "language": "python",
   "name": "python3"
  },
  "language_info": {
   "codemirror_mode": {
    "name": "ipython",
    "version": 3
   },
   "file_extension": ".py",
   "mimetype": "text/x-python",
   "name": "python",
   "nbconvert_exporter": "python",
   "pygments_lexer": "ipython3",
   "version": "3.12.1"
  }
 },
 "nbformat": 4,
 "nbformat_minor": 2
}
