{
 "cells": [
  {
   "cell_type": "code",
   "execution_count": 8,
   "metadata": {},
   "outputs": [
    {
     "name": "stdout",
     "output_type": "stream",
     "text": [
      "Erro: O arquivo Aetos Sen 1 teste.xlsx possui células vazias na coluna 'Data'.\n",
      "Valores substituídos com sucesso e arquivos salvos na mesma pasta!\n"
     ]
    }
   ],
   "source": [
    "import os\n",
    "import pandas as pd\n",
    "from openpyxl import load_workbook\n",
    "from datetime import datetime\n",
    "\n",
    "def substituir_valor_cdi(pasta, valor_substituir, data_substituir):\n",
    "    for arquivo in os.listdir(pasta):\n",
    "        if arquivo.endswith('.xlsx'):\n",
    "            caminho_arquivo = os.path.join(pasta, arquivo)\n",
    "\n",
    "            df = pd.read_excel(caminho_arquivo)\n",
    "\n",
    "            # Verificar se a coluna \"CDI\" existe no DataFrame\n",
    "            if \"CDI\" in df.columns:\n",
    "                # Substituir os valores a partir da data especificada\n",
    "                df.loc[df['Data'] >= data_substituir, 'CDI'] = valor_substituir\n",
    "\n",
    "                # Verificar se há células vazias na coluna 'CDI'\n",
    "                if df['Data'].isnull().any():\n",
    "                    print(f\"Erro: O arquivo {arquivo} possui células vazias na coluna 'Data'.\")\n",
    "                else:\n",
    "                    df.to_excel(caminho_arquivo, index=False)\n",
    "\n",
    "if __name__ == \"__main__\":\n",
    "    # Informações fornecidas pelo usuário\n",
    "    pasta_arquivos = input(\"Informe o caminho da pasta com os arquivos Excel: \")\n",
    "    valor_substituir = float(input(\"Informe o valor para substituir na coluna 'CDI': \"))\n",
    "    data_substituir_str = input(\"Informe a data a partir da qual deseja substituir (no formato YYYY-MM-DD): \")\n",
    "    data_substituir = datetime.strptime(data_substituir_str, \"%Y-%m-%d\")\n",
    "\n",
    "    # Chamar a função para substituir os valores\n",
    "    substituir_valor_cdi(pasta_arquivos, valor_substituir, data_substituir)\n",
    "\n",
    "    print(\"Valores substituídos com sucesso e arquivos salvos na mesma pasta!\")\n",
    "\n"
   ]
  }
 ],
 "metadata": {
  "kernelspec": {
   "display_name": "Python 3",
   "language": "python",
   "name": "python3"
  },
  "language_info": {
   "codemirror_mode": {
    "name": "ipython",
    "version": 3
   },
   "file_extension": ".py",
   "mimetype": "text/x-python",
   "name": "python",
   "nbconvert_exporter": "python",
   "pygments_lexer": "ipython3",
   "version": "3.12.1"
  }
 },
 "nbformat": 4,
 "nbformat_minor": 2
}
